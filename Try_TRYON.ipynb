{
 "cells": [
  {
   "cell_type": "code",
   "execution_count": null,
   "metadata": {
    "colab": {
     "base_uri": "https://localhost:8080/"
    },
    "id": "qgT0AsUCrzdd",
    "outputId": "ef3b7463-02df-49ac-aeb7-ced26d50ee99"
   },
   "outputs": [],
   "source": [
    "!rm -rf test\n",
    "!git clone https://github.com/PARKYUNSU/test\n",
    "\n",
    "!pip install numpy==1.24.4 scipy==1.13.3 --no-cache-dir --force-reinstall\n",
    "\n",
    "!pip install carvekit\n",
    "\n",
    "!pip install tensorboardX av torchgeometry iglovikov_helper_functions albumentations\n",
    "\n",
    "%cd test\n",
    "\n",
    "!python -m pip install 'git+https://github.com/facebookresearch/detectron2.git'"
   ]
  },
  {
   "cell_type": "code",
   "execution_count": null,
   "metadata": {
    "colab": {
     "base_uri": "https://localhost:8080/"
    },
    "id": "KhSY9sm8swqh",
    "outputId": "b6a9c750-bd45-4996-8e6f-fb93928f4a09"
   },
   "outputs": [],
   "source": [
    "%cd model\n",
    "!gdown https://drive.google.com/uc?id=1pLWJdMJgIqq5_C0RK6TXbQXTNRrO71-B\n",
    "!gdown https://drive.google.com/uc?id=1fmPsx__jHKy-quvFZA2ICN1YDB7xoo4u\n",
    "%cd ../"
   ]
  },
  {
   "cell_type": "code",
   "execution_count": null,
   "metadata": {
    "colab": {
     "base_uri": "https://localhost:8080/"
    },
    "id": "J-ggVbnUsv6W",
    "outputId": "30d0ca4e-b42e-46f2-c681-09eedecb9d57"
   },
   "outputs": [],
   "source": [
    "!pip install --upgrade --no-cache-dir gdown\n",
    "\n",
    "%cd HR-VITON\n",
    "!gdown https://drive.google.com/u/0/uc?id=1T5_YDUhYSSKPC_nZMk2NeC-XXUFoYeNy&export=download\n",
    "!gdown https://drive.google.com/u/0/uc?id=1XJTCdRBOPVgVTmqzhVGFAgMm2NLkw5uQ&export=download\n",
    "%cd ../\n",
    "\n",
    "%cd Graphonomy-master\n",
    "!gdown https://drive.google.com/u/0/uc?id=1eUe18HoH05p0yFUd_sN6GXdTj82aW0m9&export=download\n",
    "%cd ../"
   ]
  },
  {
   "cell_type": "code",
   "execution_count": null,
   "metadata": {
    "colab": {
     "base_uri": "https://localhost:8080/"
    },
    "id": "hzQgTGjFHCVu",
    "outputId": "575f0108-d8d2-4849-febb-672ad42a9126"
   },
   "outputs": [],
   "source": [
    "ls"
   ]
  },
  {
   "cell_type": "markdown",
   "metadata": {
    "id": "b0SbxjFDJVig"
   },
   "source": [
    "# Cloth\n",
    "입히고자 원하는 옷 이미지를 업로드 하십시오!"
   ]
  },
  {
   "cell_type": "code",
   "execution_count": null,
   "metadata": {
    "colab": {
     "base_uri": "https://localhost:8080/",
     "height": 74
    },
    "id": "d0FCWO0F0aJz",
    "outputId": "2009a2c7-6857-4475-9685-cfef7182f7d2"
   },
   "outputs": [],
   "source": [
    "import os\n",
    "import shutil\n",
    "from google.colab import files\n",
    "\n",
    "input_dir = 'input'\n",
    "uploaded = files.upload()\n",
    "for filename in uploaded.keys():\n",
    "  input_path = os.path.join(input_dir, filename)\n",
    "  shutil.move(filename, input_path)\n",
    "os.rename(input_path, input_dir+'/cloth.jpg')"
   ]
  },
  {
   "cell_type": "markdown",
   "metadata": {
    "id": "lubgl-jYJdjA"
   },
   "source": [
    "# 모델\n",
    "원하는 인물 및 원하는 모델의 이미지를 업로드 하십시오!"
   ]
  },
  {
   "cell_type": "code",
   "execution_count": null,
   "metadata": {
    "colab": {
     "base_uri": "https://localhost:8080/",
     "height": 74
    },
    "id": "WlnOnLBV0cvb",
    "outputId": "96f3776b-c7c7-4ae2-cb51-39179eaf371e"
   },
   "outputs": [],
   "source": [
    "input_dir = 'input'\n",
    "uploaded = files.upload()\n",
    "for filename in uploaded.keys():\n",
    "  input_path = os.path.join(input_dir, filename)\n",
    "  shutil.move(filename, input_path)\n",
    "os.rename(input_path, input_dir+'/model.jpg')"
   ]
  },
  {
   "cell_type": "code",
   "execution_count": null,
   "metadata": {
    "colab": {
     "base_uri": "https://localhost:8080/",
     "height": 485
    },
    "id": "UgUelEis8DS0",
    "outputId": "33e898da-96c6-436d-fdc4-fe7d482cd20f"
   },
   "outputs": [],
   "source": [
    "import matplotlib.pyplot as plt\n",
    "import cv2\n",
    "\n",
    "mode = cv2.cvtColor(cv2.imread(\"./input/model.jpg\"), cv2.COLOR_BGR2RGB)\n",
    "cloth = cv2.cvtColor(cv2.imread(\"./input/cloth.jpg\"), cv2.COLOR_BGR2RGB)\n",
    "## Display Images\n",
    "fig, axes = plt.subplots(nrows=1, ncols=2)\n",
    "dpi = fig.get_dpi()\n",
    "fig.set_size_inches(900/ dpi, 448 / dpi)\n",
    "plt.subplots_adjust(left=0, right=1, bottom=0, top=1)\n",
    "axes[0].axis('off')\n",
    "axes[0].imshow(mode)\n",
    "axes[1].axis('off')\n",
    "axes[1].imshow(cloth)\n",
    "plt.show()"
   ]
  },
  {
   "cell_type": "code",
   "execution_count": null,
   "metadata": {
    "colab": {
     "base_uri": "https://localhost:8080/"
    },
    "id": "vUntiTsQIsN9",
    "outputId": "dd6e1c86-8a78-4054-d3c6-1c2ad89b5c77"
   },
   "outputs": [],
   "source": [
    "ls"
   ]
  },
  {
   "cell_type": "code",
   "execution_count": null,
   "metadata": {
    "colab": {
     "base_uri": "https://localhost:8080/"
    },
    "id": "PG76RPVL8IFl",
    "outputId": "bb67d237-b13b-44be-aaa3-8857484ecf98"
   },
   "outputs": [],
   "source": [
    "!python main.py #--background False"
   ]
  },
  {
   "cell_type": "code",
   "execution_count": null,
   "metadata": {
    "colab": {
     "base_uri": "https://localhost:8080/",
     "height": 1000
    },
    "id": "PjEYN7iGBEeq",
    "outputId": "6daae658-c260-4758-aab2-fd208934a8a0"
   },
   "outputs": [],
   "source": [
    "from PIL import Image\n",
    "from IPython.display import Image\n",
    "\n",
    "image1 = Image(filename=\"./input/finalimg.png\")\n",
    "display(image1)"
   ]
  }
 ],
 "metadata": {
  "accelerator": "GPU",
  "colab": {
   "gpuType": "T4",
   "provenance": []
  },
  "kernelspec": {
   "display_name": "Python 3",
   "name": "python3"
  },
  "language_info": {
   "name": "python"
  }
 },
 "nbformat": 4,
 "nbformat_minor": 0
}
